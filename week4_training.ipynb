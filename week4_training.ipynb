{
 "cells": [
  {
   "cell_type": "markdown",
   "metadata": {},
   "source": [
    "#### <center> Специализация \"Машинное обучение и анализ данных\"\n",
    "<center>Автор материала: программист-исследователь Mail.Ru Group, старший преподаватель Факультета Компьютерных Наук ВШЭ [Юрий Кашницкий](https://yorko.github.io/)"
   ]
  },
  {
   "cell_type": "markdown",
   "metadata": {},
   "source": [
    "## <center> Capstone проект №1 <br> Идентификация пользователей по посещенным веб-страницам <br>Неделя 4.  Сравнение алгоритмов классификации\n",
    "\n",
    "Теперь мы наконец подойдем к обучению моделей классификации, сравним на кросс-валидации несколько алгоритмов, разберемся, какие параметры длины сессии (*session_length* и *window_size*) лучше использовать. Также для выбранного алгоритма построим кривые валидации (как качество классификации зависит от одного из гиперпараметров алгоритма) и кривые обучения (как качество классификации зависит от объема выборки).\n",
    "\n",
    "**План 4 недели:**\n",
    "- Часть 1. Сравнение нескольких алгоритмов на сессиях из 10 сайтов\n",
    "- Часть 2. Выбор параметров – длины сессии и ширины окна\n",
    "- Часть 3. Идентификация  конкретного пользователя и кривые обучения"
   ]
  },
  {
   "cell_type": "code",
   "execution_count": 1,
   "metadata": {},
   "outputs": [],
   "source": [
    "from __future__ import division, print_function\n",
    "# отключим всякие предупреждения Anaconda\n",
    "import warnings\n",
    "warnings.filterwarnings('ignore')\n",
    "from time import time\n",
    "import itertools\n",
    "import os\n",
    "import numpy as np\n",
    "import pandas as pd\n",
    "import seaborn as sns\n",
    "%matplotlib inline\n",
    "from matplotlib import pyplot as plt\n",
    "import pickle\n",
    "from scipy.sparse import csr_matrix\n",
    "from sklearn.model_selection import train_test_split, cross_val_score, StratifiedKFold, GridSearchCV\n",
    "from sklearn.metrics import accuracy_score, f1_score"
   ]
  },
  {
   "cell_type": "code",
   "execution_count": 2,
   "metadata": {},
   "outputs": [],
   "source": [
    "#путь к данным\n",
    "PATH_TO_DATA = 'capstone_user_identification'"
   ]
  },
  {
   "cell_type": "code",
   "execution_count": 3,
   "metadata": {},
   "outputs": [],
   "source": [
    "def write_answer_to_file(answer, file_address):\n",
    "    with open(file_address, 'w') as fout:\n",
    "        fout.write(str(answer))"
   ]
  },
  {
   "cell_type": "markdown",
   "metadata": {},
   "source": [
    "## Часть 1. Сравнение нескольких алгоритмов на сессиях из 10 сайтов"
   ]
  },
  {
   "cell_type": "markdown",
   "metadata": {},
   "source": [
    "**Загрузим сериализованные ранее объекты *X_sparse_10users* и *y_10users*, соответствующие обучающей выборке для 10 пользователей.**"
   ]
  },
  {
   "cell_type": "code",
   "execution_count": 4,
   "metadata": {},
   "outputs": [],
   "source": [
    "with open(os.path.join(PATH_TO_DATA, \n",
    "         'X_sparse_10users.pkl'), 'rb') as X_sparse_10users_pkl:\n",
    "    X_sparse_10users = pickle.load(X_sparse_10users_pkl)\n",
    "with open(os.path.join(PATH_TO_DATA, \n",
    "                       'y_10users.pkl'), 'rb') as y_10users_pkl:\n",
    "    y_10users = pickle.load(y_10users_pkl)"
   ]
  },
  {
   "cell_type": "markdown",
   "metadata": {},
   "source": [
    "**Здесь более 14 тысяч сессий и почти 5 тысяч уникальных посещенных сайтов.**"
   ]
  },
  {
   "cell_type": "code",
   "execution_count": 5,
   "metadata": {},
   "outputs": [
    {
     "data": {
      "text/plain": [
       "(14061, 4913)"
      ]
     },
     "execution_count": 5,
     "metadata": {},
     "output_type": "execute_result"
    }
   ],
   "source": [
    "X_sparse_10users.shape"
   ]
  },
  {
   "cell_type": "code",
   "execution_count": 6,
   "metadata": {},
   "outputs": [
    {
     "data": {
      "text/plain": [
       "14061"
      ]
     },
     "execution_count": 6,
     "metadata": {},
     "output_type": "execute_result"
    }
   ],
   "source": [
    "len(y_10users)"
   ]
  },
  {
   "cell_type": "markdown",
   "metadata": {},
   "source": [
    "**Разобьем выборку на 2 части. На одной будем проводить кросс-валидацию, на второй – оценивать модель, обученную после кросс-валидации.**"
   ]
  },
  {
   "cell_type": "code",
   "execution_count": 7,
   "metadata": {},
   "outputs": [],
   "source": [
    "X_train, X_valid, y_train, y_valid = train_test_split(X_sparse_10users, y_10users, \n",
    "                                                      test_size=0.3, \n",
    "                                                     random_state=17, stratify=y_10users)"
   ]
  },
  {
   "cell_type": "markdown",
   "metadata": {},
   "source": [
    "**Зададим заранее тип кросс-валидации: 3-кратная, с перемешиванием, параметр random_state=17 – для воспроизводимости.**"
   ]
  },
  {
   "cell_type": "code",
   "execution_count": 8,
   "metadata": {},
   "outputs": [],
   "source": [
    "skf = StratifiedKFold(n_splits=3, shuffle=True, random_state=17)"
   ]
  },
  {
   "cell_type": "markdown",
   "metadata": {},
   "source": [
    "**Вспомогательная функция для отрисовки кривых валидации после запуска GridSearchCV (или RandomizedCV).**"
   ]
  },
  {
   "cell_type": "code",
   "execution_count": 9,
   "metadata": {},
   "outputs": [],
   "source": [
    "def plot_validation_curves(param_values, grid_cv_results_):\n",
    "    train_mu, train_std = grid_cv_results_['mean_train_score'], grid_cv_results_['std_train_score']\n",
    "    valid_mu, valid_std = grid_cv_results_['mean_test_score'], grid_cv_results_['std_test_score']\n",
    "    train_line = plt.plot(param_values, train_mu, '-', label='train', color='green')\n",
    "    valid_line = plt.plot(param_values, valid_mu, '-', label='test', color='red')\n",
    "    plt.fill_between(param_values, train_mu - train_std, train_mu + train_std, edgecolor='none',\n",
    "                     facecolor=train_line[0].get_color(), alpha=0.2)\n",
    "    plt.fill_between(param_values, valid_mu - valid_std, valid_mu + valid_std, edgecolor='none',\n",
    "                     facecolor=valid_line[0].get_color(), alpha=0.2)\n",
    "    plt.legend()"
   ]
  },
  {
   "cell_type": "markdown",
   "metadata": {},
   "source": [
    "**1. Обучите `KNeighborsClassifier` со 100 ближайшими соседями (остальные параметры оставьте по умолчанию, только `n_jobs`=-1 для распараллеливания) и посмотрите на долю правильных ответов на 3-кратной кросс-валидации (ради воспроизводимости используйте для этого объект `StratifiedKFold` `skf`) по выборке `(X_train, y_train)` и отдельно на выборке `(X_valid, y_valid)`.**"
   ]
  },
  {
   "cell_type": "code",
   "execution_count": 10,
   "metadata": {},
   "outputs": [],
   "source": [
    "from sklearn.neighbors import KNeighborsClassifier"
   ]
  },
  {
   "cell_type": "code",
   "execution_count": 11,
   "metadata": {},
   "outputs": [],
   "source": [
    "knn_classifier = KNeighborsClassifier(n_neighbors=100, n_jobs=-1)"
   ]
  },
  {
   "cell_type": "code",
   "execution_count": 12,
   "metadata": {},
   "outputs": [
    {
     "data": {
      "text/plain": [
       "0.559946836057815"
      ]
     },
     "execution_count": 12,
     "metadata": {},
     "output_type": "execute_result"
    }
   ],
   "source": [
    "knn_cv = np.mean(cross_val_score(knn_classifier, X_train.todense(), y_train, n_jobs=-1, cv=skf))\n",
    "knn_cv"
   ]
  },
  {
   "cell_type": "markdown",
   "metadata": {},
   "source": [
    "**<font color='red'>Вопрос 1. </font> Посчитайте доли правильных ответов для KNeighborsClassifier на кросс-валидации и отложенной выборке. Округлите каждое до 3 знаков после запятой и введите через пробел.**"
   ]
  },
  {
   "cell_type": "code",
   "execution_count": 13,
   "metadata": {},
   "outputs": [],
   "source": [
    "knn_classifier.fit(X_train.todense(), y_train)\n",
    "knn_acc = accuracy_score(y_valid, knn_classifier.predict(X_valid.todense()))"
   ]
  },
  {
   "cell_type": "code",
   "execution_count": 14,
   "metadata": {},
   "outputs": [
    {
     "data": {
      "text/plain": [
       "0.5897132021806115"
      ]
     },
     "execution_count": 14,
     "metadata": {},
     "output_type": "execute_result"
    }
   ],
   "source": [
    "knn_acc"
   ]
  },
  {
   "cell_type": "code",
   "execution_count": 15,
   "metadata": {},
   "outputs": [],
   "source": [
    "write_answer_to_file(\"{} {}\".format(round(knn_cv, 3), round(knn_acc, 3)),'4-1.txt')"
   ]
  },
  {
   "cell_type": "code",
   "execution_count": 16,
   "metadata": {},
   "outputs": [
    {
     "name": "stdout",
     "output_type": "stream",
     "text": [
      "0.56 0.59"
     ]
    }
   ],
   "source": [
    "!cat 4-1.txt"
   ]
  },
  {
   "cell_type": "markdown",
   "metadata": {},
   "source": [
    "**2. Обучите случайный лес (`RandomForestClassifier`) из 100 деревьев (для воспроизводимости `random_state`=17). Посмотрите на OOB-оценку (для этого надо сразу установить `oob_score`=True) и на долю правильных ответов на выборке `(X_valid, y_valid)`. Для распараллеливания задайте `n_jobs`=-1.**"
   ]
  },
  {
   "cell_type": "code",
   "execution_count": 17,
   "metadata": {},
   "outputs": [],
   "source": [
    "from sklearn.ensemble import RandomForestClassifier"
   ]
  },
  {
   "cell_type": "code",
   "execution_count": 35,
   "metadata": {},
   "outputs": [],
   "source": [
    "forest = RandomForestClassifier(n_estimators=100,  oob_score=True, random_state=17, n_jobs=-1)"
   ]
  },
  {
   "cell_type": "code",
   "execution_count": 36,
   "metadata": {},
   "outputs": [
    {
     "data": {
      "text/plain": [
       "RandomForestClassifier(n_jobs=-1, oob_score=True, random_state=17)"
      ]
     },
     "execution_count": 36,
     "metadata": {},
     "output_type": "execute_result"
    }
   ],
   "source": [
    "forest.fit(X_train.todense(), y_train)"
   ]
  },
  {
   "cell_type": "code",
   "execution_count": 30,
   "metadata": {},
   "outputs": [
    {
     "data": {
      "text/plain": [
       "{'bootstrap': True,\n",
       " 'ccp_alpha': 0.0,\n",
       " 'class_weight': None,\n",
       " 'criterion': 'gini',\n",
       " 'max_depth': None,\n",
       " 'max_features': 'auto',\n",
       " 'max_leaf_nodes': None,\n",
       " 'max_samples': None,\n",
       " 'min_impurity_decrease': 0.0,\n",
       " 'min_impurity_split': None,\n",
       " 'min_samples_leaf': 1,\n",
       " 'min_samples_split': 2,\n",
       " 'min_weight_fraction_leaf': 0.0,\n",
       " 'n_estimators': 100,\n",
       " 'n_jobs': -1,\n",
       " 'oob_score': True,\n",
       " 'random_state': 17,\n",
       " 'verbose': 0,\n",
       " 'warm_start': False}"
      ]
     },
     "execution_count": 30,
     "metadata": {},
     "output_type": "execute_result"
    }
   ],
   "source": [
    "forest.get_params()"
   ]
  },
  {
   "cell_type": "code",
   "execution_count": 38,
   "metadata": {},
   "outputs": [
    {
     "data": {
      "text/plain": [
       "0.7174354805933754"
      ]
     },
     "execution_count": 38,
     "metadata": {},
     "output_type": "execute_result"
    }
   ],
   "source": [
    "forest.oob_score_"
   ]
  },
  {
   "cell_type": "code",
   "execution_count": 37,
   "metadata": {},
   "outputs": [
    {
     "data": {
      "text/plain": [
       "0.7442521924626688"
      ]
     },
     "execution_count": 37,
     "metadata": {},
     "output_type": "execute_result"
    }
   ],
   "source": [
    "forest_acc = accuracy_score(y_valid, forest.predict(X_valid.todense()))\n",
    "forest_acc"
   ]
  },
  {
   "cell_type": "markdown",
   "metadata": {},
   "source": [
    "**<font color='red'>Вопрос 2. </font> Посчитайте доли правильных ответов для `RandomForestClassifier` при Out-of-Bag оценке и на отложенной выборке. Округлите каждое до 3 знаков после запятой и введите через пробел.**"
   ]
  },
  {
   "cell_type": "code",
   "execution_count": 40,
   "metadata": {},
   "outputs": [],
   "source": [
    "write_answer_to_file(\"{} {}\".format(round(forest.oob_score_, 3), round(forest_acc, 3)), '4-2.txt')"
   ]
  },
  {
   "cell_type": "code",
   "execution_count": 41,
   "metadata": {},
   "outputs": [
    {
     "name": "stdout",
     "output_type": "stream",
     "text": [
      "0.717 0.744"
     ]
    }
   ],
   "source": [
    "!cat 4-2.txt"
   ]
  },
  {
   "cell_type": "markdown",
   "metadata": {},
   "source": [
    "**3. Обучите логистическую регрессию (`LogisticRegression`) с параметром `C` по умолчанию и `random_state`=17 (для воспроизводимости). Посмотрите на долю правильных ответов на кросс-валидации (используйте объект `skf`, созданный ранее) и на выборке `(X_valid, y_valid)`. Для распараллеливания задайте `n_jobs=-1`.**"
   ]
  },
  {
   "cell_type": "code",
   "execution_count": 42,
   "metadata": {},
   "outputs": [],
   "source": [
    "from sklearn.linear_model import LogisticRegression, LogisticRegressionCV"
   ]
  },
  {
   "cell_type": "code",
   "execution_count": 43,
   "metadata": {},
   "outputs": [],
   "source": [
    "logit = LogisticRegression(random_state=17, n_jobs=-1)"
   ]
  },
  {
   "cell_type": "code",
   "execution_count": 44,
   "metadata": {},
   "outputs": [
    {
     "data": {
      "text/plain": [
       "0.7567560083555728"
      ]
     },
     "execution_count": 44,
     "metadata": {},
     "output_type": "execute_result"
    }
   ],
   "source": [
    "logit_cv = np.mean(cross_val_score(logit, X_train, y_train, cv=skf, n_jobs=-1))\n",
    "logit_cv"
   ]
  },
  {
   "cell_type": "code",
   "execution_count": 45,
   "metadata": {},
   "outputs": [
    {
     "data": {
      "text/plain": [
       "LogisticRegression(n_jobs=-1, random_state=17)"
      ]
     },
     "execution_count": 45,
     "metadata": {},
     "output_type": "execute_result"
    }
   ],
   "source": [
    "logit.fit(X_train, y_train)"
   ]
  },
  {
   "cell_type": "code",
   "execution_count": 46,
   "metadata": {},
   "outputs": [
    {
     "data": {
      "text/plain": [
       "0.7885754918227068"
      ]
     },
     "execution_count": 46,
     "metadata": {},
     "output_type": "execute_result"
    }
   ],
   "source": [
    "logit_acc = accuracy_score(y_valid, logit.predict(X_valid))\n",
    "logit_acc"
   ]
  },
  {
   "cell_type": "markdown",
   "metadata": {},
   "source": [
    "**Почитайте документацию к [LogisticRegressionCV](http://scikit-learn.org/stable/modules/generated/sklearn.linear_model.LogisticRegressionCV.html). Логистическая регрессия хорошо изучена, и для нее существуют алгоритмы быстрого подбора параметра регуляризации `C` (быстрее, чем с `GridSearchCV`).**\n",
    "\n",
    "**С помощью `LogisticRegressionCV` подберите параметр `C` для `LogisticRegression` сначала в широком диапазоне: 10 значений от 1e-4 до 1e2, используйте `logspace` из `NumPy`. Укажите у `LogisticRegressionCV` параметры `multi_class`='multinomial' и `random_state`=17. Для кросс-валидации используйте объект `skf`, созданный ранее. Для распараллеливания задайте `n_jobs=-1`.**\n",
    "\n",
    "**Нарисуйте кривые валидации по параметру `C`.**"
   ]
  },
  {
   "cell_type": "code",
   "execution_count": 47,
   "metadata": {},
   "outputs": [
    {
     "name": "stdout",
     "output_type": "stream",
     "text": [
      "CPU times: user 4.89 s, sys: 101 ms, total: 4.99 s\n",
      "Wall time: 6.56 s\n"
     ]
    },
    {
     "data": {
      "text/plain": [
       "LogisticRegressionCV(Cs=array([1.00000000e-04, 4.64158883e-04, 2.15443469e-03, 1.00000000e-02,\n",
       "       4.64158883e-02, 2.15443469e-01, 1.00000000e+00, 4.64158883e+00,\n",
       "       2.15443469e+01, 1.00000000e+02]),\n",
       "                     cv=StratifiedKFold(n_splits=3, random_state=17, shuffle=True),\n",
       "                     multi_class='multinomial', n_jobs=-1, random_state=17)"
      ]
     },
     "execution_count": 47,
     "metadata": {},
     "output_type": "execute_result"
    }
   ],
   "source": [
    "%%time\n",
    "logit_c_values1 = np.logspace(-4, 2, 10)\n",
    "\n",
    "logit_grid_searcher1 = LogisticRegressionCV(Cs=logit_c_values1, multi_class='multinomial', random_state=17, \n",
    "                                            cv=skf, n_jobs=-1)\n",
    "logit_grid_searcher1.fit(X_train, y_train)"
   ]
  },
  {
   "cell_type": "code",
   "execution_count": 48,
   "metadata": {},
   "outputs": [
    {
     "data": {
      "text/plain": [
       "array([1.00000000e-04, 4.64158883e-04, 2.15443469e-03, 1.00000000e-02,\n",
       "       4.64158883e-02, 2.15443469e-01, 1.00000000e+00, 4.64158883e+00,\n",
       "       2.15443469e+01, 1.00000000e+02])"
      ]
     },
     "execution_count": 48,
     "metadata": {},
     "output_type": "execute_result"
    }
   ],
   "source": [
    "logit_c_values1"
   ]
  },
  {
   "cell_type": "markdown",
   "metadata": {},
   "source": [
    "Средние значения доли правильных ответов на кросс-валидации по каждому из 10 параметров `C`."
   ]
  },
  {
   "cell_type": "code",
   "execution_count": 49,
   "metadata": {},
   "outputs": [
    {
     "data": {
      "text/plain": [
       "array([0.31639964, 0.46596179, 0.54978646, 0.6467169 , 0.71225258,\n",
       "       0.74700183, 0.75553674, 0.75299665, 0.7479169 , 0.73663886])"
      ]
     },
     "execution_count": 49,
     "metadata": {},
     "output_type": "execute_result"
    }
   ],
   "source": [
    "logit_mean_cv_scores1 = np.mean(logit_grid_searcher1.scores_[1], axis=0)\n",
    "logit_mean_cv_scores1"
   ]
  },
  {
   "cell_type": "markdown",
   "metadata": {},
   "source": [
    "Выведите лучшее значение доли правильных ответов на кросс-валидации и соответствующее значение `C`."
   ]
  },
  {
   "cell_type": "code",
   "execution_count": 50,
   "metadata": {},
   "outputs": [
    {
     "data": {
      "text/plain": [
       "(0.7555367439532366, 1.0)"
      ]
     },
     "execution_count": 50,
     "metadata": {},
     "output_type": "execute_result"
    }
   ],
   "source": [
    "np.max(logit_mean_cv_scores1), logit_grid_searcher1.Cs_[np.argmax(logit_mean_cv_scores1)]"
   ]
  },
  {
   "cell_type": "markdown",
   "metadata": {},
   "source": [
    "Нарисуйте график зависимости доли правильных ответов на кросс-валидации от `C`."
   ]
  },
  {
   "cell_type": "code",
   "execution_count": 51,
   "metadata": {},
   "outputs": [
    {
     "data": {
      "text/plain": [
       "[<matplotlib.lines.Line2D at 0x7f8ef789c9d0>]"
      ]
     },
     "execution_count": 51,
     "metadata": {},
     "output_type": "execute_result"
    },
    {
     "data": {
      "image/png": "[encoded data removed]",
      "text/plain": [
       "<Figure size 432x288 with 1 Axes>"
      ]
     },
     "metadata": {
      "needs_background": "light"
     },
     "output_type": "display_data"
    }
   ],
   "source": [
    "plt.plot(logit_c_values1, logit_mean_cv_scores1)"
   ]
  },
  {
   "cell_type": "markdown",
   "metadata": {},
   "source": [
    "**Теперь то же самое, только значения параметра `C` перебирайте в диапазоне `np.linspace`(0.1, 7, 20). Опять нарисуйте кривые валидации, определите максимальное значение доли правильных ответов на кросс-валидации.**"
   ]
  },
  {
   "cell_type": "code",
   "execution_count": 52,
   "metadata": {},
   "outputs": [
    {
     "name": "stdout",
     "output_type": "stream",
     "text": [
      "CPU times: user 4.63 s, sys: 79.9 ms, total: 4.71 s\n",
      "Wall time: 17.7 s\n"
     ]
    },
    {
     "data": {
      "text/plain": [
       "LogisticRegressionCV(Cs=array([0.1       , 0.46315789, 0.82631579, 1.18947368, 1.55263158,\n",
       "       1.91578947, 2.27894737, 2.64210526, 3.00526316, 3.36842105,\n",
       "       3.73157895, 4.09473684, 4.45789474, 4.82105263, 5.18421053,\n",
       "       5.54736842, 5.91052632, 6.27368421, 6.63684211, 7.        ]),\n",
       "                     cv=StratifiedKFold(n_splits=3, random_state=17, shuffle=True),\n",
       "                     multi_class='multinomial', n_jobs=-1, random_state=17)"
      ]
     },
     "execution_count": 52,
     "metadata": {},
     "output_type": "execute_result"
    }
   ],
   "source": [
    "%%time\n",
    "logit_c_values2 = np.linspace(0.1, 7, 20)\n",
    "\n",
    "logit_grid_searcher2 = LogisticRegressionCV(Cs = logit_c_values2, multi_class='multinomial', random_state=17,\n",
    "                                           cv=skf, n_jobs=-1)\n",
    "logit_grid_searcher2.fit(X_train, y_train)"
   ]
  },
  {
   "cell_type": "markdown",
   "metadata": {},
   "source": [
    "Средние значения доли правильных ответов на кросс-валидации по каждому из 10 параметров `C`."
   ]
  },
  {
   "cell_type": "code",
   "execution_count": 53,
   "metadata": {},
   "outputs": [
    {
     "data": {
      "text/plain": [
       "array([0.73379305, 0.75360619, 0.75553671, 0.75563831, 0.75553677,\n",
       "       0.7547238 , 0.75513018, 0.75472377, 0.75380926, 0.75380926,\n",
       "       0.75350447, 0.75269177, 0.75269177, 0.75198067, 0.75177742,\n",
       "       0.75147257, 0.7515742 , 0.75126944, 0.75106622, 0.75086297])"
      ]
     },
     "execution_count": 53,
     "metadata": {},
     "output_type": "execute_result"
    }
   ],
   "source": [
    "logit_mean_cv_scores2 = np.mean(logit_grid_searcher2.scores_[1], axis=0)\n",
    "logit_mean_cv_scores2"
   ]
  },
  {
   "cell_type": "code",
   "execution_count": 54,
   "metadata": {},
   "outputs": [
    {
     "data": {
      "text/plain": [
       "array([0.1       , 0.46315789, 0.82631579, 1.18947368, 1.55263158,\n",
       "       1.91578947, 2.27894737, 2.64210526, 3.00526316, 3.36842105,\n",
       "       3.73157895, 4.09473684, 4.45789474, 4.82105263, 5.18421053,\n",
       "       5.54736842, 5.91052632, 6.27368421, 6.63684211, 7.        ])"
      ]
     },
     "execution_count": 54,
     "metadata": {},
     "output_type": "execute_result"
    }
   ],
   "source": [
    "logit_grid_searcher2.Cs_"
   ]
  },
  {
   "cell_type": "markdown",
   "metadata": {},
   "source": [
    "Выведите лучшее значение доли правильных ответов на кросс-валидации и соответствующее значение `C`."
   ]
  },
  {
   "cell_type": "code",
   "execution_count": 55,
   "metadata": {},
   "outputs": [
    {
     "data": {
      "text/plain": [
       "(0.7556383080213003, 1.1894736842105265)"
      ]
     },
     "execution_count": 55,
     "metadata": {},
     "output_type": "execute_result"
    }
   ],
   "source": [
    "np.max(logit_mean_cv_scores2), logit_grid_searcher2.Cs_[np.argmax(logit_mean_cv_scores2)]"
   ]
  },
  {
   "cell_type": "markdown",
   "metadata": {},
   "source": [
    "Нарисуйте график зависимости доли правильных ответов на кросс-валидации от `C`."
   ]
  },
  {
   "cell_type": "code",
   "execution_count": 56,
   "metadata": {},
   "outputs": [
    {
     "data": {
      "text/plain": [
       "[<matplotlib.lines.Line2D at 0x7f8ef7963890>]"
      ]
     },
     "execution_count": 56,
     "metadata": {},
     "output_type": "execute_result"
    },
    {
     "data": {
      "image/png": "[encoded data removed]",
      "text/plain": [
       "<Figure size 432x288 with 1 Axes>"
      ]
     },
     "metadata": {
      "needs_background": "light"
     },
     "output_type": "display_data"
    }
   ],
   "source": [
    "plt.plot(logit_c_values2, logit_mean_cv_scores2)"
   ]
  },
  {
   "cell_type": "markdown",
   "metadata": {},
   "source": [
    "Выведите долю правильных ответов на выборке `(X_valid, y_valid)` для логистической регрессии с лучшим найденным значением `C`."
   ]
  },
  {
   "cell_type": "code",
   "execution_count": 57,
   "metadata": {},
   "outputs": [
    {
     "data": {
      "text/plain": [
       "0.7871533538753259"
      ]
     },
     "execution_count": 57,
     "metadata": {},
     "output_type": "execute_result"
    }
   ],
   "source": [
    "logit_cv_acc = accuracy_score(y_valid, logit_grid_searcher2.predict(X_valid))\n",
    "logit_cv_acc"
   ]
  },
  {
   "cell_type": "markdown",
   "metadata": {},
   "source": [
    "**<font color='red'>Вопрос 3. </font>Посчитайте доли правильных ответов для `logit_grid_searcher2` на кросс-валидации для лучшего значения параметра `C` и на отложенной выборке. Округлите каждое до 3 знаков после запятой и выведите через пробел.**"
   ]
  },
  {
   "cell_type": "code",
   "execution_count": 58,
   "metadata": {},
   "outputs": [],
   "source": [
    "write_answer_to_file(\"{} {}\".format(round(np.max(logit_mean_cv_scores2), 3), \n",
    "                                    round(logit_cv_acc, 3)),\n",
    "                     '4-3.txt')"
   ]
  },
  {
   "cell_type": "code",
   "execution_count": 59,
   "metadata": {},
   "outputs": [
    {
     "name": "stdout",
     "output_type": "stream",
     "text": [
      "0.756 0.787"
     ]
    }
   ],
   "source": [
    "!cat 4-3.txt"
   ]
  },
  {
   "cell_type": "markdown",
   "metadata": {},
   "source": [
    "**4. Обучите линейный SVM (`LinearSVC`) с параметром `C`=1 и `random_state`=17 (для воспроизводимости). Посмотрите на долю правильных ответов на кросс-валидации (используйте объект `skf`, созданный ранее) и на выборке `(X_valid, y_valid)`.**"
   ]
  },
  {
   "cell_type": "code",
   "execution_count": 60,
   "metadata": {},
   "outputs": [],
   "source": [
    "from sklearn.svm import LinearSVC"
   ]
  },
  {
   "cell_type": "code",
   "execution_count": 61,
   "metadata": {},
   "outputs": [],
   "source": [
    "svm = LinearSVC(C=1, random_state=17)"
   ]
  },
  {
   "cell_type": "code",
   "execution_count": 62,
   "metadata": {},
   "outputs": [
    {
     "data": {
      "text/plain": [
       "0.7477134301211955"
      ]
     },
     "execution_count": 62,
     "metadata": {},
     "output_type": "execute_result"
    }
   ],
   "source": [
    "svm_cv = np.mean(cross_val_score(svm, X_train, y_train, cv=skf, n_jobs=-1))\n",
    "svm_cv"
   ]
  },
  {
   "cell_type": "code",
   "execution_count": 63,
   "metadata": {},
   "outputs": [
    {
     "data": {
      "text/plain": [
       "LinearSVC(C=1, random_state=17)"
      ]
     },
     "execution_count": 63,
     "metadata": {},
     "output_type": "execute_result"
    }
   ],
   "source": [
    "svm.fit(X_train, y_train)"
   ]
  },
  {
   "cell_type": "code",
   "execution_count": 64,
   "metadata": {},
   "outputs": [
    {
     "data": {
      "text/plain": [
       "0.7812277790945722"
      ]
     },
     "execution_count": 64,
     "metadata": {},
     "output_type": "execute_result"
    }
   ],
   "source": [
    "svm_acc = accuracy_score(y_valid, svm.predict(X_valid))\n",
    "svm_acc"
   ]
  },
  {
   "cell_type": "markdown",
   "metadata": {},
   "source": [
    "**С помощью `GridSearchCV` подберите параметр `C` для SVM сначала в широком диапазоне: 10 значений от 1e-4 до 1e4, используйте `linspace` из NumPy. Нарисуйте кривые валидации.**"
   ]
  },
  {
   "cell_type": "code",
   "execution_count": 65,
   "metadata": {},
   "outputs": [
    {
     "name": "stdout",
     "output_type": "stream",
     "text": [
      "CPU times: user 2.04 s, sys: 15 µs, total: 2.04 s\n",
      "Wall time: 8.53 s\n"
     ]
    },
    {
     "data": {
      "text/plain": [
       "GridSearchCV(cv=StratifiedKFold(n_splits=3, random_state=17, shuffle=True),\n",
       "             estimator=LinearSVC(C=1, random_state=17), n_jobs=-1,\n",
       "             param_grid={'C': array([1.0000000e-04, 1.1111112e+03, 2.2222223e+03, 3.3333334e+03,\n",
       "       4.4444445e+03, 5.5555556e+03, 6.6666667e+03, 7.7777778e+03,\n",
       "       8.8888889e+03, 1.0000000e+04])},\n",
       "             return_train_score=True)"
      ]
     },
     "execution_count": 65,
     "metadata": {},
     "output_type": "execute_result"
    }
   ],
   "source": [
    "%%time\n",
    "svm_params1 = {'C': np.linspace(1e-4, 1e4, 10)}\n",
    "\n",
    "svm_grid_searcher1 = GridSearchCV(svm, param_grid = svm_params1, cv = skf, n_jobs=-1, \n",
    "                                  return_train_score = True)\n",
    "svm_grid_searcher1.fit(X_train, y_train)"
   ]
  },
  {
   "cell_type": "markdown",
   "metadata": {},
   "source": [
    "Выведите лучшее значение доли правильных ответов на кросс-валидации и соответствующее значение `C`."
   ]
  },
  {
   "cell_type": "code",
   "execution_count": 66,
   "metadata": {},
   "outputs": [
    {
     "data": {
      "text/plain": [
       "(0.6940661681075818, {'C': 3333.3334000000004})"
      ]
     },
     "execution_count": 66,
     "metadata": {},
     "output_type": "execute_result"
    }
   ],
   "source": [
    "svm_grid_searcher1.best_score_, svm_grid_searcher1.best_params_"
   ]
  },
  {
   "cell_type": "markdown",
   "metadata": {},
   "source": [
    "Нарисуйте график зависимости доли правильных ответов на кросс-валидации от `C`."
   ]
  },
  {
   "cell_type": "code",
   "execution_count": 67,
   "metadata": {},
   "outputs": [
    {
     "data": {
      "image/png": "[encoded data removed]",
      "text/plain": [
       "<Figure size 432x288 with 1 Axes>"
      ]
     },
     "metadata": {
      "needs_background": "light"
     },
     "output_type": "display_data"
    }
   ],
   "source": [
    "plot_validation_curves(svm_params1['C'], svm_grid_searcher1.cv_results_)"
   ]
  },
  {
   "cell_type": "markdown",
   "metadata": {},
   "source": [
    "**Но мы помним, что с параметром регуляризации по умолчанию (С=1) на кросс-валидации доля правильных ответов выше. Это тот случай (не редкий), когда можно ошибиться и перебирать параметры не в том диапазоне (причина в том, что мы взяли равномерную сетку на большом интервале и упустили действительно хороший интервал значений `C`). Здесь намного осмысленней подбирать `C` в районе 1, к тому же, так модель быстрее обучается, чем при больших `C`. **\n",
    "\n",
    "**С помощью `GridSearchCV` подберите параметр `C` для SVM в диапазоне (1e-3, 1), 30 значений, используйте `linspace` из NumPy. Нарисуйте кривые валидации.**"
   ]
  },
  {
   "cell_type": "code",
   "execution_count": 68,
   "metadata": {},
   "outputs": [
    {
     "name": "stdout",
     "output_type": "stream",
     "text": [
      "CPU times: user 600 ms, sys: 21.3 ms, total: 621 ms\n",
      "Wall time: 11.8 s\n"
     ]
    },
    {
     "data": {
      "text/plain": [
       "GridSearchCV(cv=StratifiedKFold(n_splits=3, random_state=17, shuffle=True),\n",
       "             estimator=LinearSVC(C=1, random_state=17), n_jobs=-1,\n",
       "             param_grid={'C': array([0.001     , 0.03544828, 0.06989655, 0.10434483, 0.1387931 ,\n",
       "       0.17324138, 0.20768966, 0.24213793, 0.27658621, 0.31103448,\n",
       "       0.34548276, 0.37993103, 0.41437931, 0.44882759, 0.48327586,\n",
       "       0.51772414, 0.55217241, 0.58662069, 0.62106897, 0.65551724,\n",
       "       0.68996552, 0.72441379, 0.75886207, 0.79331034, 0.82775862,\n",
       "       0.8622069 , 0.89665517, 0.93110345, 0.96555172, 1.        ])},\n",
       "             return_train_score=True)"
      ]
     },
     "execution_count": 68,
     "metadata": {},
     "output_type": "execute_result"
    }
   ],
   "source": [
    "%%time\n",
    "svm_params2 = {'C': np.linspace(1e-3, 1, 30)}\n",
    "\n",
    "svm_grid_searcher2 = GridSearchCV(svm, param_grid=svm_params2, cv=skf, n_jobs=-1, \n",
    "                                  return_train_score=True)\n",
    "svm_grid_searcher2.fit(X_train, y_train)"
   ]
  },
  {
   "cell_type": "markdown",
   "metadata": {},
   "source": [
    "Выведите лучшее значение доли правильных ответов на кросс-валидации и соответствующее значение `C`."
   ]
  },
  {
   "cell_type": "code",
   "execution_count": 69,
   "metadata": {},
   "outputs": [
    {
     "data": {
      "text/plain": [
       "(0.7592958844096214, {'C': 0.10434482758620689})"
      ]
     },
     "execution_count": 69,
     "metadata": {},
     "output_type": "execute_result"
    }
   ],
   "source": [
    "svm_grid_searcher2.best_score_, svm_grid_searcher2.best_params_"
   ]
  },
  {
   "cell_type": "markdown",
   "metadata": {},
   "source": [
    "Нарисуйте график зависимости доли правильных ответов на кросс-валидации от С."
   ]
  },
  {
   "cell_type": "code",
   "execution_count": 70,
   "metadata": {},
   "outputs": [
    {
     "data": {
      "image/png": "[encoded data removed]",
      "text/plain": [
       "<Figure size 432x288 with 1 Axes>"
      ]
     },
     "metadata": {
      "needs_background": "light"
     },
     "output_type": "display_data"
    }
   ],
   "source": [
    "plot_validation_curves(svm_params2['C'], svm_grid_searcher2.cv_results_)"
   ]
  },
  {
   "cell_type": "markdown",
   "metadata": {},
   "source": [
    "Выведите долю правильных ответов на выборке `(X_valid, y_valid)` для `LinearSVC` с лучшим найденным значением `C`."
   ]
  },
  {
   "cell_type": "code",
   "execution_count": 71,
   "metadata": {},
   "outputs": [
    {
     "data": {
      "text/plain": [
       "0.7885754918227068"
      ]
     },
     "execution_count": 71,
     "metadata": {},
     "output_type": "execute_result"
    }
   ],
   "source": [
    "svm_cv_acc = accuracy_score(y_valid, svm_grid_searcher2.predict(X_valid.todense()))\n",
    "svm_cv_acc"
   ]
  },
  {
   "cell_type": "markdown",
   "metadata": {},
   "source": [
    "**<font color='red'>Вопрос 4. </font> Посчитайте доли правильных ответов для `svm_grid_searcher2` на кросс-валидации для лучшего значения параметра `C` и на отложенной выборке. Округлите каждое до 3 знаков после запятой и выведите через пробел.**"
   ]
  },
  {
   "cell_type": "code",
   "execution_count": 72,
   "metadata": {},
   "outputs": [],
   "source": [
    "write_answer_to_file(\"{} {}\".format(round(svm_grid_searcher2.best_score_, 3), \n",
    "                                    round(svm_cv_acc, 3)),\n",
    "                     '4-4.txt')"
   ]
  },
  {
   "cell_type": "code",
   "execution_count": 73,
   "metadata": {},
   "outputs": [
    {
     "name": "stdout",
     "output_type": "stream",
     "text": [
      "0.759 0.789"
     ]
    }
   ],
   "source": [
    "!cat 4-4.txt"
   ]
  },
  {
   "cell_type": "markdown",
   "metadata": {},
   "source": [
    "## Часть 2. Выбор параметров – длины сессии и ширины окна"
   ]
  },
  {
   "cell_type": "markdown",
   "metadata": {},
   "source": [
    "**Возьмем `LinearSVC`, показавший лучшее качество на кросс-валидации в 1 части, и проверим его работу еще на 8 выборках для 10 пользователей (с разными сочетаниями параметров *session_length* и *window_size*). Поскольку тут уже вычислений побольше, мы не будем каждый раз заново подбирать параметр регуляризации `C`.**\n",
    "\n",
    "**Определите функцию `model_assessment`, ее документация описана ниже. Обратите внимание на все детали. Например, на то, что разбиение  выборки с `train_test_split` должно быть стратифицированным. Не теряйте нигде `random_state`.**"
   ]
  },
  {
   "cell_type": "code",
   "execution_count": 74,
   "metadata": {},
   "outputs": [],
   "source": [
    "def model_assessment(estimator, path_to_X_pickle, path_to_y_pickle, cv, random_state=17, test_size=0.3):\n",
    "    '''\n",
    "    Estimates CV-accuracy for (1 - test_size) share of (X_sparse, y) \n",
    "    loaded from path_to_X_pickle and path_to_y_pickle and holdout accuracy for (test_size) share of (X_sparse, y).\n",
    "    The split is made with stratified train_test_split with params random_state and test_size.\n",
    "    \n",
    "    :param estimator – Scikit-learn estimator (classifier or regressor)\n",
    "    :param path_to_X_pickle – path to pickled sparse X (instances and their features)\n",
    "    :param path_to_y_pickle – path to pickled y (responses)\n",
    "    :param cv – cross-validation as in cross_val_score (use StratifiedKFold here)\n",
    "    :param random_state –  for train_test_split\n",
    "    :param test_size –  for train_test_split\n",
    "    \n",
    "    :returns mean CV-accuracy for (X_train, y_train) and accuracy for (X_valid, y_valid) where (X_train, y_train)\n",
    "    and (X_valid, y_valid) are (1 - test_size) and (testsize) shares of (X_sparse, y).\n",
    "    '''\n",
    "    \n",
    "    with open(path_to_X_pickle, 'rb') as f:\n",
    "        X = pickle.load(f)\n",
    "    with open(path_to_y_pickle, 'rb') as f:\n",
    "        y = pickle.load(f)\n",
    "    \n",
    "    X_train, X_valid, y_train, y_valid = train_test_split(X, y, test_size = test_size, stratify = y,\n",
    "                                                          random_state = random_state)\n",
    "    \n",
    "    mean_cv = np.mean(cross_val_score(estimator, X_train, y_train, cv = cv, n_jobs =- 1))\n",
    "    estimator.fit(X_train, y_train)\n",
    "    accuracy = accuracy_score(y_valid, estimator.predict(X_valid))\n",
    "    \n",
    "    return mean_cv, accuracy"
   ]
  },
  {
   "cell_type": "markdown",
   "metadata": {},
   "source": [
    "**Убедитесь, что функция работает.**"
   ]
  },
  {
   "cell_type": "code",
   "execution_count": 75,
   "metadata": {},
   "outputs": [
    {
     "data": {
      "text/plain": [
       "(0.7592958844096214, 0.7885754918227068)"
      ]
     },
     "execution_count": 75,
     "metadata": {},
     "output_type": "execute_result"
    }
   ],
   "source": [
    "model_assessment(svm_grid_searcher2.best_estimator_, \n",
    "                 os.path.join(PATH_TO_DATA, 'X_sparse_10users.pkl'),\n",
    "        os.path.join(PATH_TO_DATA, 'y_10users.pkl'), skf, random_state=17, test_size=0.3)"
   ]
  },
  {
   "cell_type": "markdown",
   "metadata": {},
   "source": [
    "**Примените функцию *model_assessment* для лучшего алгоритма из предыдущей части (а именно, `svm_grid_searcher2.best_estimator_`) и 9 выборок вида с разными сочетаниями параметров *session_length* и *window_size* для 10 пользователей. Выведите в цикле параметры *session_length* и *window_size*, а также результат вывода функции *model_assessment*. \n",
    "Удобно сделать так, чтоб *model_assessment* возвращала 3-им элементом время, за которое она выполнилась. На моем ноуте этот участок кода выполнился за 20 секунд. Но со 150 пользователями каждая итерация занимает уже несколько минут.**"
   ]
  },
  {
   "cell_type": "markdown",
   "metadata": {},
   "source": [
    "Здесь для удобства стоит создать копии ранее созданных pickle-файлов X_sparse_10users.pkl, X_sparse_150users.pkl, y_10users.pkl и y_150users.pkl, добавив к их названиям s10_w10, что означает длину сессии 10 и ширину окна 10. "
   ]
  },
  {
   "cell_type": "code",
   "execution_count": 76,
   "metadata": {},
   "outputs": [],
   "source": [
    "!cp $PATH_TO_DATA/X_sparse_10users.pkl $PATH_TO_DATA/X_sparse_10users_s10_w10.pkl \n",
    "!cp $PATH_TO_DATA/X_sparse_150users.pkl $PATH_TO_DATA/X_sparse_150users_s10_w10.pkl \n",
    "!cp $PATH_TO_DATA/y_10users.pkl $PATH_TO_DATA/y_10users_s10_w10.pkl \n",
    "!cp $PATH_TO_DATA/y_150users.pkl $PATH_TO_DATA/y_150users_s10_w10.pkl "
   ]
  },
  {
   "cell_type": "code",
   "execution_count": 77,
   "metadata": {},
   "outputs": [
    {
     "name": "stdout",
     "output_type": "stream",
     "text": [
      "session length  15 window size  10\n",
      "(0.8199545671927307, 0.8466461246740934)\n",
      "session length  10 window size  10\n",
      "(0.7592958844096214, 0.7885754918227068)\n",
      "session length  15 window size  7\n",
      "(0.8476529145325365, 0.8599634975941596)\n",
      "session length  10 window size  7\n",
      "(0.7958748150663458, 0.8154969304795089)\n",
      "session length  7 window size  7\n",
      "(0.7456614179975469, 0.7663846026215364)\n",
      "session length  15 window size  5\n",
      "(0.8676964413391276, 0.8763632053105738)\n",
      "session length  10 window size  5\n",
      "(0.8134335157366205, 0.8272878141299194)\n",
      "session length  7 window size  5\n",
      "(0.7716188864849326, 0.7822427690848743)\n",
      "session length  5 window size  5\n",
      "(0.7228432468652533, 0.7367235656709341)\n",
      "CPU times: user 6.36 s, sys: 20.3 ms, total: 6.38 s\n",
      "Wall time: 11.1 s\n"
     ]
    }
   ],
   "source": [
    "%%time\n",
    "estimator = svm_grid_searcher2.best_estimator_\n",
    "\n",
    "for window_size, session_length in itertools.product([10, 7, 5], [15, 10, 7, 5]):\n",
    "    if window_size <= session_length:\n",
    "        path_to_X_pkl = os.path.join(PATH_TO_DATA,\\\n",
    "                                     'X_sparse_10users_s{}_w{}.pkl'.format(session_length, window_size))\n",
    "        path_to_y_pkl = os.path.join(PATH_TO_DATA,\\\n",
    "                                     'y_10users_s{}_w{}.pkl'.format(session_length, window_size))                          \n",
    "        print('session length ', session_length, 'window size ', window_size)\n",
    "        print(model_assessment(estimator, path_to_X_pkl, path_to_y_pkl, skf, random_state=17, test_size=0.3))"
   ]
  },
  {
   "cell_type": "markdown",
   "metadata": {},
   "source": [
    "**<font color='red'>Вопрос 5. </font> Посчитайте доли правильных ответов для `LinearSVC` с настроенным параметром `C` и выборки `X_sparse_10users_s15_w5`. Укажите доли правильных ответов на кросс-валидации и на отложенной выборке. Округлите каждое до 3 знаков после запятой и выведите через пробел.**"
   ]
  },
  {
   "cell_type": "code",
   "execution_count": 78,
   "metadata": {},
   "outputs": [
    {
     "data": {
      "text/plain": [
       "(0.8676964413391276, 0.8763632053105738)"
      ]
     },
     "execution_count": 78,
     "metadata": {},
     "output_type": "execute_result"
    }
   ],
   "source": [
    "svm_cv, svm_acc = model_assessment(svm_grid_searcher2.best_estimator_, \n",
    "                                     os.path.join(PATH_TO_DATA, 'X_sparse_10users_s15_w5.pkl'),\n",
    "                                     os.path.join(PATH_TO_DATA, 'y_10users_s15_w5.pkl'), \n",
    "                                                  skf, random_state=17, test_size=0.3)\n",
    "svm_cv, svm_acc"
   ]
  },
  {
   "cell_type": "code",
   "execution_count": 81,
   "metadata": {},
   "outputs": [],
   "source": [
    "write_answer_to_file(\"{} {}\".format(round(svm_cv,3), round(svm_acc,3)), \n",
    "                     '4-5.txt')"
   ]
  },
  {
   "cell_type": "code",
   "execution_count": 82,
   "metadata": {},
   "outputs": [
    {
     "name": "stdout",
     "output_type": "stream",
     "text": [
      "0.868 0.876"
     ]
    }
   ],
   "source": [
    "!cat 4-5.txt"
   ]
  },
  {
   "cell_type": "markdown",
   "metadata": {},
   "source": [
    "**Прокомментируйте полученные результаты. Сравните для 150 пользователей доли правильных ответов на кросс-валидации и оставленной выборке для сочетаний параметров (*session_length, window_size*): (5,5), (7,7) и (10,10). На среднем ноуте это может занять до часа – запаситесь терпением, это Data Science :) **\n",
    "\n",
    "**Сделайте вывод о том, как качество классификации зависит от длины сессии и ширины окна.**"
   ]
  },
  {
   "cell_type": "code",
   "execution_count": 83,
   "metadata": {},
   "outputs": [
    {
     "name": "stdout",
     "output_type": "stream",
     "text": [
      "session length  5 window size  5\n",
      "(0.40920065286881613, 0.42268944371441086)\n",
      "session length  7 window size  7\n",
      "(0.4383786624622257, 0.45048881016452635)\n",
      "session length  10 window size  10\n",
      "(0.4649421871904747, 0.47856760570233053)\n",
      "CPU times: user 3min 11s, sys: 217 ms, total: 3min 12s\n",
      "Wall time: 6min 10s\n"
     ]
    }
   ],
   "source": [
    "%%time\n",
    "estimator = svm_grid_searcher2.best_estimator_\n",
    "\n",
    "for window_size, session_length in [(5,5), (7,7), (10,10)]:\n",
    "    if window_size <= session_length:\n",
    "        path_to_X_pkl = os.path.join(PATH_TO_DATA,\\\n",
    "                                     'X_sparse_150users_s{}_w{}.pkl'.format(session_length, window_size))\n",
    "        path_to_y_pkl = os.path.join(PATH_TO_DATA,\\\n",
    "                                     'y_150users_s{}_w{}.pkl'.format(session_length, window_size))                          \n",
    "        print('session length ', session_length, 'window size ', window_size)\n",
    "        print(model_assessment(estimator, path_to_X_pkl, path_to_y_pkl, skf, random_state=17, test_size=0.3))"
   ]
  },
  {
   "cell_type": "markdown",
   "metadata": {},
   "source": [
    "**<font color='red'>Вопрос 6. </font> Посчитайте доли правильных ответов для `LinearSVC` с настроенным параметром `C` и выборки `X_sparse_150users`. Укажите доли правильных ответов на кросс-валидации и на отложенной выборке. Округлите каждое до 3 знаков после запятой и выведите через пробел.**"
   ]
  },
  {
   "cell_type": "code",
   "execution_count": 84,
   "metadata": {},
   "outputs": [],
   "source": [
    "write_answer_to_file(\"{} {}\".format(round(0.4649,3), round(0.4785,3)), '4-6.txt')"
   ]
  },
  {
   "cell_type": "code",
   "execution_count": 85,
   "metadata": {},
   "outputs": [
    {
     "name": "stdout",
     "output_type": "stream",
     "text": [
      "0.465 0.478"
     ]
    }
   ],
   "source": [
    "!cat 4-6.txt"
   ]
  },
  {
   "cell_type": "markdown",
   "metadata": {},
   "source": [
    "## Часть 3. Идентификация  конкретного пользователя и кривые обучения"
   ]
  },
  {
   "cell_type": "markdown",
   "metadata": {},
   "source": [
    "**Поскольку может разочаровать, что многоклассовая доля правильных ответов на выборке из 150 пользовалей невелика, порадуемся тому, что конкретного пользователя можно идентифицировать достаточно хорошо. **"
   ]
  },
  {
   "cell_type": "markdown",
   "metadata": {},
   "source": [
    "**Загрузим сериализованные ранее объекты *X_sparse_150users* и *y_150users*, соответствующие обучающей выборке для 150 пользователей с параметрами (*session_length, window_size*) = (10,10). Так же точно разобьем их на 70% и 30%.**"
   ]
  },
  {
   "cell_type": "code",
   "execution_count": 86,
   "metadata": {},
   "outputs": [],
   "source": [
    "with open(os.path.join(PATH_TO_DATA, 'X_sparse_150users.pkl'), 'rb') as X_sparse_150users_pkl:\n",
    "     X_sparse_150users = pickle.load(X_sparse_150users_pkl)\n",
    "with open(os.path.join(PATH_TO_DATA, 'y_150users.pkl'), 'rb') as y_150users_pkl:\n",
    "    y_150users = pickle.load(y_150users_pkl)"
   ]
  },
  {
   "cell_type": "code",
   "execution_count": 87,
   "metadata": {},
   "outputs": [],
   "source": [
    "X_train_150, X_valid_150, y_train_150, y_valid_150 = train_test_split(X_sparse_150users, \n",
    "                                                                      y_150users, test_size=0.3, \n",
    "                                                     random_state=17, stratify=y_150users)"
   ]
  },
  {
   "cell_type": "markdown",
   "metadata": {},
   "source": [
    "**Обучите `LogisticRegressionCV` для одного значения параметра `C` (лучшего на кросс-валидации в 1 части, используйте точное значение, не на глаз). Теперь будем решать 150 задач \"Один-против-Всех\", поэтому укажите аргумент `multi_class`='ovr'. Как всегда, где возможно, указывайте `n_jobs=-1` и `random_state`=17.**"
   ]
  },
  {
   "cell_type": "code",
   "execution_count": 88,
   "metadata": {},
   "outputs": [
    {
     "name": "stdout",
     "output_type": "stream",
     "text": [
      "CPU times: user 10min 35s, sys: 9.63 s, total: 10min 44s\n",
      "Wall time: 3min 11s\n"
     ]
    },
    {
     "data": {
      "text/plain": [
       "LogisticRegressionCV(Cs=[1.1894736842105265],\n",
       "                     cv=StratifiedKFold(n_splits=3, random_state=17, shuffle=True),\n",
       "                     multi_class='ovr', n_jobs=-1, random_state=17)"
      ]
     },
     "execution_count": 88,
     "metadata": {},
     "output_type": "execute_result"
    }
   ],
   "source": [
    "%%time\n",
    "c = logit_grid_searcher2.Cs_[np.argmax(logit_mean_cv_scores2)]\n",
    "logit_cv_150users = LogisticRegressionCV(Cs = [c], multi_class='ovr', cv=skf, random_state=17, n_jobs=-1)\n",
    "logit_cv_150users.fit(X_train_150, y_train_150)"
   ]
  },
  {
   "cell_type": "markdown",
   "metadata": {},
   "source": [
    "**Посмотрите на средние доли правильных ответов на кросс-валидации в задаче идентификации каждого пользователя по отдельности.**"
   ]
  },
  {
   "cell_type": "code",
   "execution_count": 89,
   "metadata": {},
   "outputs": [
    {
     "name": "stdout",
     "output_type": "stream",
     "text": [
      "User 1, CV score: 0.9948703512558256\n",
      "User 2, CV score: 0.996966000437897\n",
      "User 3, CV score: 0.9910022624670275\n",
      "User 4, CV score: 0.9945992722571497\n",
      "User 5, CV score: 0.9950684474471657\n",
      "User 6, CV score: 0.9967574781312231\n",
      "User 7, CV score: 0.9971223921679021\n",
      "User 8, CV score: 0.9962883029412071\n",
      "User 9, CV score: 0.995860832212526\n",
      "User 10, CV score: 0.9921804134997342\n",
      "User 11, CV score: 0.9966323647472187\n",
      "User 12, CV score: 0.990616496199681\n",
      "User 13, CV score: 0.9966740692085536\n",
      "User 14, CV score: 0.9844546620374715\n",
      "User 15, CV score: 0.9966010864012178\n",
      "User 16, CV score: 0.9972058010905717\n",
      "User 17, CV score: 0.986675424603547\n",
      "User 18, CV score: 0.9976228457039191\n",
      "User 19, CV score: 0.9963091551718746\n",
      "User 20, CV score: 0.9930457810724302\n",
      "User 21, CV score: 0.9948703512558256\n",
      "User 22, CV score: 0.9951622824851688\n",
      "User 23, CV score: 0.9960067978271976\n",
      "User 24, CV score: 0.9968825915152273\n",
      "User 25, CV score: 0.9970077048992317\n",
      "User 26, CV score: 0.9982796909699415\n",
      "User 27, CV score: 0.9982171342779393\n",
      "User 28, CV score: 0.9971119660525686\n",
      "User 29, CV score: 0.9963404335178755\n",
      "User 30, CV score: 0.9955376226371816\n",
      "User 31, CV score: 0.996726199785222\n",
      "User 32, CV score: 0.9863209366822016\n",
      "User 33, CV score: 0.991419307080375\n",
      "User 34, CV score: 0.9964655469018798\n",
      "User 35, CV score: 0.9892923795523026\n",
      "User 36, CV score: 0.9968200348232252\n",
      "User 37, CV score: 0.9967366259005557\n",
      "User 38, CV score: 0.9964759730172136\n",
      "User 39, CV score: 0.9966844953238873\n",
      "User 40, CV score: 0.9963195812872082\n",
      "User 41, CV score: 0.9956106054445174\n",
      "User 42, CV score: 0.9952665436385058\n",
      "User 43, CV score: 0.9950371691011647\n",
      "User 44, CV score: 0.9869986341788913\n",
      "User 45, CV score: 0.9937234785691199\n",
      "User 46, CV score: 0.9844650881528052\n",
      "User 47, CV score: 0.996361285748543\n",
      "User 48, CV score: 0.9893340840136373\n",
      "User 49, CV score: 0.9973934711665781\n",
      "User 50, CV score: 0.9956835882518532\n",
      "User 51, CV score: 0.9960380761731985\n",
      "User 52, CV score: 0.995860832212526\n",
      "User 53, CV score: 0.9980503164326003\n",
      "User 54, CV score: 0.9970806877065673\n",
      "User 55, CV score: 0.9911586541970326\n",
      "User 56, CV score: 0.9967053475545545\n",
      "User 57, CV score: 0.9969451482072295\n",
      "User 58, CV score: 0.9956418837905185\n",
      "User 59, CV score: 0.9958712583278597\n",
      "User 60, CV score: 0.9942239321051369\n",
      "User 61, CV score: 0.9961944679032039\n",
      "User 62, CV score: 0.9936713479924514\n",
      "User 63, CV score: 0.9962465984798724\n",
      "User 64, CV score: 0.9897094241656501\n",
      "User 65, CV score: 0.9911065236203642\n",
      "User 66, CV score: 0.996392564094544\n",
      "User 67, CV score: 0.9950684474471657\n",
      "User 68, CV score: 0.9902411560476683\n",
      "User 69, CV score: 0.9975185845505824\n",
      "User 70, CV score: 0.9962048940185376\n",
      "User 71, CV score: 0.9903245649703377\n",
      "User 72, CV score: 0.9949224818324941\n",
      "User 73, CV score: 0.9897094241656501\n",
      "User 74, CV score: 0.9947348117564876\n",
      "User 75, CV score: 0.9951310041391679\n",
      "User 76, CV score: 0.9957148665978544\n",
      "User 77, CV score: 0.9957774232898564\n",
      "User 78, CV score: 0.997195374975238\n",
      "User 79, CV score: 0.9916278293870486\n",
      "User 80, CV score: 0.9911899325430338\n",
      "User 81, CV score: 0.9934106951091093\n",
      "User 82, CV score: 0.9809619134006861\n",
      "User 83, CV score: 0.9978730724719277\n",
      "User 84, CV score: 0.9970077048992317\n",
      "User 85, CV score: 0.996423842440545\n",
      "User 86, CV score: 0.9968825915152273\n",
      "User 87, CV score: 0.9966010864012178\n",
      "User 88, CV score: 0.9975081584352488\n",
      "User 89, CV score: 0.9803780509419995\n",
      "User 90, CV score: 0.9952978219845067\n",
      "User 91, CV score: 0.996528103593882\n",
      "User 92, CV score: 0.9943386193738076\n",
      "User 93, CV score: 0.9975811412425845\n",
      "User 94, CV score: 0.9969451482072295\n",
      "User 95, CV score: 0.9943490454891412\n",
      "User 96, CV score: 0.996893017630561\n",
      "User 97, CV score: 0.9968721653998935\n",
      "User 98, CV score: 0.9968096087078915\n",
      "User 99, CV score: 0.9965906602858841\n",
      "User 100, CV score: 0.9946201244878171\n",
      "User 101, CV score: 0.9971849488599043\n",
      "User 102, CV score: 0.9965906602858841\n",
      "User 103, CV score: 0.9950058907551637\n",
      "User 104, CV score: 0.9958816844431934\n",
      "User 105, CV score: 0.9976436979345866\n",
      "User 106, CV score: 0.9936609218771179\n",
      "User 107, CV score: 0.9942760626818054\n",
      "User 108, CV score: 0.9966219386318852\n",
      "User 109, CV score: 0.9977271068572561\n",
      "User 110, CV score: 0.9904705305850093\n",
      "User 111, CV score: 0.9908458707370221\n",
      "User 112, CV score: 0.994724385641154\n",
      "User 113, CV score: 0.9966844953238873\n",
      "User 114, CV score: 0.9959338150198618\n",
      "User 115, CV score: 0.9971745227445705\n",
      "User 116, CV score: 0.9937756091457883\n",
      "User 117, CV score: 0.9973517667052433\n",
      "User 118, CV score: 0.9922742485377373\n",
      "User 119, CV score: 0.9903141388550041\n",
      "User 120, CV score: 0.9953812309071765\n",
      "User 121, CV score: 0.9973100622439085\n",
      "User 122, CV score: 0.9926287364590828\n",
      "User 123, CV score: 0.9974560278585801\n",
      "User 124, CV score: 0.9961006328652008\n",
      "User 125, CV score: 0.9954229353685111\n",
      "User 126, CV score: 0.9963717118638766\n",
      "User 127, CV score: 0.991586124925714\n",
      "User 128, CV score: 0.9966219386318852\n",
      "User 129, CV score: 0.9917737950017202\n",
      "User 130, CV score: 0.9967991825925578\n",
      "User 131, CV score: 0.9949120557171603\n",
      "User 132, CV score: 0.9965176774785482\n",
      "User 133, CV score: 0.9944428805271444\n",
      "User 134, CV score: 0.9977375329725898\n",
      "User 135, CV score: 0.9958816844431934\n",
      "User 136, CV score: 0.9941196709518\n",
      "User 137, CV score: 0.9967887564772241\n",
      "User 138, CV score: 0.992555753651747\n",
      "User 139, CV score: 0.9974143233972455\n",
      "User 140, CV score: 0.9969868526685642\n",
      "User 141, CV score: 0.9966532169778862\n",
      "User 142, CV score: 0.9874886615995746\n",
      "User 143, CV score: 0.9970598354759\n",
      "User 144, CV score: 0.9972683577825738\n",
      "User 145, CV score: 0.9892402489756341\n",
      "User 146, CV score: 0.9957774232898564\n",
      "User 147, CV score: 0.9952873958691731\n",
      "User 148, CV score: 0.9969034437458947\n",
      "User 149, CV score: 0.9902098777016671\n",
      "User 150, CV score: 0.9816291847820421\n"
     ]
    }
   ],
   "source": [
    "cv_scores_by_user = logit_cv_150users.scores_\n",
    "for user_id in logit_cv_150users.scores_:\n",
    "    print('User {}, CV score: {}'.format(user_id, np.mean(cv_scores_by_user[user_id])))"
   ]
  },
  {
   "cell_type": "markdown",
   "metadata": {},
   "source": [
    "**Результаты кажутся впечатляющими, но возможно, мы забываем про дисбаланс классов, и высокую долю правильных ответов можно получить константным прогнозом. Посчитайте для каждого пользователя разницу между долей правильных ответов на кросс-валидации (только что посчитанную с помощью `LogisticRegressionCV`) и долей меток в *y_train_150*, отличных от ID \n",
    " этого пользователя (именно такую долю правильных ответов можно получить, если классификатор всегда \"говорит\", что это не пользователь с номером $i$ в задаче классификации $i$-vs-All).**"
   ]
  },
  {
   "cell_type": "code",
   "execution_count": 90,
   "metadata": {},
   "outputs": [
    {
     "name": "stdout",
     "output_type": "stream",
     "text": [
      "User 1, diff: 0.0076527686549268115\n",
      "User 2, diff: 0.009748417836998202\n",
      "User 3, diff: 0.0037846798661287373\n",
      "User 4, diff: 0.007381689656250967\n",
      "User 5, diff: 0.007850864846266958\n",
      "User 6, diff: 0.009539895530324305\n",
      "User 7, diff: 0.009904809567003348\n",
      "User 8, diff: 0.009070720340308314\n",
      "User 9, diff: 0.008643249611627213\n",
      "User 10, diff: 0.004962830898835424\n",
      "User 11, diff: 0.009414782146319967\n",
      "User 12, diff: 0.003398913598782194\n",
      "User 13, diff: 0.009456486607654857\n",
      "User 14, diff: -0.002762920563427307\n",
      "User 15, diff: 0.009383503800319049\n",
      "User 16, diff: 0.009988218489672906\n",
      "User 17, diff: -0.0005421579973517998\n",
      "User 18, diff: 0.010405263103020368\n",
      "User 19, diff: 0.009091572570975814\n",
      "User 20, diff: 0.005828198471531487\n",
      "User 21, diff: 0.0076527686549268115\n",
      "User 22, diff: 0.007944699884270046\n",
      "User 23, diff: 0.00878921522629883\n",
      "User 24, diff: 0.009665008914328532\n",
      "User 25, diff: 0.009790122298332982\n",
      "User 26, diff: 0.011062108369042756\n",
      "User 27, diff: 0.010999551677040587\n",
      "User 28, diff: 0.00989438345166982\n",
      "User 29, diff: 0.009122850916976732\n",
      "User 30, diff: 0.008320040036282839\n",
      "User 31, diff: 0.009508617184323276\n",
      "User 32, diff: -0.0008966459186972031\n",
      "User 33, diff: 0.004201724479476199\n",
      "User 34, diff: 0.00924796430098107\n",
      "User 35, diff: 0.00207479695140389\n",
      "User 36, diff: 0.009602452222326474\n",
      "User 37, diff: 0.009519043299656915\n",
      "User 38, diff: 0.009258390416314821\n",
      "User 39, diff: 0.009466912722988496\n",
      "User 40, diff: 0.009101998686309454\n",
      "User 41, diff: 0.008393022843618647\n",
      "User 42, diff: 0.008048961037606994\n",
      "User 43, diff: 0.00781958650026593\n",
      "User 44, diff: -0.0002189484220074256\n",
      "User 45, diff: 0.006505895968221154\n",
      "User 46, diff: -0.0027524944480935565\n",
      "User 47, diff: 0.009143703147644233\n",
      "User 48, diff: 0.0021165014127385584\n",
      "User 49, diff: 0.010175888565679303\n",
      "User 50, diff: 0.008466005650954456\n",
      "User 51, diff: 0.008820493572299748\n",
      "User 52, diff: 0.008643249611627213\n",
      "User 53, diff: 0.01083273383170158\n",
      "User 54, diff: 0.009863105105668568\n",
      "User 55, diff: 0.003941071596133883\n",
      "User 56, diff: 0.009487764953655775\n",
      "User 57, diff: 0.009727565606330701\n",
      "User 58, diff: 0.008424301189619787\n",
      "User 59, diff: 0.008653675726960963\n",
      "User 60, diff: 0.007006349504238174\n",
      "User 61, diff: 0.008976885302305115\n",
      "User 62, diff: 0.006453765391552624\n",
      "User 63, diff: 0.009029015878973645\n",
      "User 64, diff: 0.0024918415647513514\n",
      "User 65, diff: 0.003888941019465464\n",
      "User 66, diff: 0.009174981493645262\n",
      "User 67, diff: 0.007850864846266958\n",
      "User 68, diff: 0.003023573446769512\n",
      "User 69, diff: 0.010301001949683641\n",
      "User 70, diff: 0.008987311417638866\n",
      "User 71, diff: 0.0031069823694389598\n",
      "User 72, diff: 0.007704899231595341\n",
      "User 73, diff: 0.0024918415647513514\n",
      "User 74, diff: 0.007517229155588834\n",
      "User 75, diff: 0.007913421538269128\n",
      "User 76, diff: 0.008497283996955596\n",
      "User 77, diff: 0.008559840688957654\n",
      "User 78, diff: 0.009977792374339267\n",
      "User 79, diff: 0.004410246786149874\n",
      "User 80, diff: 0.003972349942135023\n",
      "User 81, diff: 0.00619311250821053\n",
      "User 82, diff: -0.006255669200212699\n",
      "User 83, diff: 0.010655489871028934\n",
      "User 84, diff: 0.009790122298332982\n",
      "User 85, diff: 0.009206259839646291\n",
      "User 86, diff: 0.009665008914328532\n",
      "User 87, diff: 0.009383503800319049\n",
      "User 88, diff: 0.010290575834350002\n",
      "User 89, diff: -0.006839531658899278\n",
      "User 90, diff: 0.008080239383607912\n",
      "User 91, diff: 0.00931052099298324\n",
      "User 92, diff: 0.007121036772908873\n",
      "User 93, diff: 0.0103635586416857\n",
      "User 94, diff: 0.009727565606330701\n",
      "User 95, diff: 0.007131462888242401\n",
      "User 96, diff: 0.009675435029662283\n",
      "User 97, diff: 0.009654582798994782\n",
      "User 98, diff: 0.009592026106992724\n",
      "User 99, diff: 0.009373077684985298\n",
      "User 100, diff: 0.007402541886918357\n",
      "User 101, diff: 0.009967366259005517\n",
      "User 102, diff: 0.009373077684985298\n",
      "User 103, diff: 0.0077883081542649\n",
      "User 104, diff: 0.008664101842294603\n",
      "User 105, diff: 0.010426115333687869\n",
      "User 106, diff: 0.0064433392762190955\n",
      "User 107, diff: 0.007058480080906593\n",
      "User 108, diff: 0.009404356030986438\n",
      "User 109, diff: 0.010509524256357317\n",
      "User 110, diff: 0.003252947984110577\n",
      "User 111, diff: 0.00362828813612337\n",
      "User 112, diff: 0.007506803040255194\n",
      "User 113, diff: 0.009466912722988496\n",
      "User 114, diff: 0.008716232418963021\n",
      "User 115, diff: 0.009956940143671766\n",
      "User 116, diff: 0.0065580265448895725\n",
      "User 117, diff: 0.010134184104344524\n",
      "User 118, diff: 0.005056665936838511\n",
      "User 119, diff: 0.0030965562541053204\n",
      "User 120, diff: 0.008163648306277693\n",
      "User 121, diff: 0.010092479643009744\n",
      "User 122, diff: 0.005411153858184026\n",
      "User 123, diff: 0.010238445257681361\n",
      "User 124, diff: 0.008883050264302028\n",
      "User 125, diff: 0.008205352767612362\n",
      "User 126, diff: 0.009154129262977873\n",
      "User 127, diff: 0.0043685423248152055\n",
      "User 128, diff: 0.009404356030986438\n",
      "User 129, diff: 0.004556212400821491\n",
      "User 130, diff: 0.009581599991659084\n",
      "User 131, diff: 0.007694473116261591\n",
      "User 132, diff: 0.00930009487764949\n",
      "User 133, diff: 0.0072252979262456\n",
      "User 134, diff: 0.010519950371691067\n",
      "User 135, diff: 0.008664101842294603\n",
      "User 136, diff: 0.006902088350901225\n",
      "User 137, diff: 0.009571173876325334\n",
      "User 138, diff: 0.005338171050848217\n",
      "User 139, diff: 0.010196740796346693\n",
      "User 140, diff: 0.009769270067665481\n",
      "User 141, diff: 0.009435634376987467\n",
      "User 142, diff: 0.0002710789986758444\n",
      "User 143, diff: 0.00984225287500129\n",
      "User 144, diff: 0.010050775181675076\n",
      "User 145, diff: 0.00202266637473536\n",
      "User 146, diff: 0.008559840688957654\n",
      "User 147, diff: 0.008069813268274384\n",
      "User 148, diff: 0.009685861144995922\n",
      "User 149, diff: 0.002992295100768372\n",
      "User 150, diff: -0.005588397818856672\n"
     ]
    }
   ],
   "source": [
    "class_distr = np.bincount(y_train_150.astype('int'))\n",
    "\n",
    "acc_diff_vs_constant = []\n",
    "\n",
    "for user_id in np.unique(y_train_150):\n",
    "    cv_score = np.mean(cv_scores_by_user[user_id])\n",
    "    part_label = (len(y_train_150) - class_distr[1])/len(y_train_150)\n",
    "    diff = cv_score - part_label\n",
    "    acc_diff_vs_constant.append(diff)\n",
    "    print('User {}, diff: {}'.format(user_id, diff))"
   ]
  },
  {
   "cell_type": "code",
   "execution_count": 91,
   "metadata": {},
   "outputs": [
    {
     "data": {
      "text/plain": [
       "142"
      ]
     },
     "execution_count": 91,
     "metadata": {},
     "output_type": "execute_result"
    }
   ],
   "source": [
    "num_better_than_default = (np.array(list(acc_diff_vs_constant)) > 0).sum()\n",
    "num_better_than_default"
   ]
  },
  {
   "cell_type": "markdown",
   "metadata": {},
   "source": [
    "**<font color='red'>Вопрос 7. </font> Посчитайте долю пользователей, для которых логистическая регрессия на кросс-валидации дает прогноз лучше константного. Округлите до 3 знаков после запятой.**"
   ]
  },
  {
   "cell_type": "code",
   "execution_count": 92,
   "metadata": {},
   "outputs": [
    {
     "data": {
      "text/plain": [
       "0.9466666666666667"
      ]
     },
     "execution_count": 92,
     "metadata": {},
     "output_type": "execute_result"
    }
   ],
   "source": [
    "num_better_than_default/150"
   ]
  },
  {
   "cell_type": "code",
   "execution_count": 93,
   "metadata": {},
   "outputs": [],
   "source": [
    "write_answer_to_file(round(num_better_than_default/150, 3), \n",
    "                     'answer4_7.txt')"
   ]
  },
  {
   "cell_type": "code",
   "execution_count": 94,
   "metadata": {},
   "outputs": [
    {
     "name": "stdout",
     "output_type": "stream",
     "text": [
      "0.947"
     ]
    }
   ],
   "source": [
    "!cat answer4_7.txt"
   ]
  },
  {
   "cell_type": "markdown",
   "metadata": {},
   "source": [
    "**Дальше будем строить кривые обучения для конкретного пользователя, допустим, для 128-го. Составьте новый бинарный вектор на основе *y_150users*, его значения будут 1 или 0 в зависимости от того, равен ли ID-шник пользователя 128.**"
   ]
  },
  {
   "cell_type": "code",
   "execution_count": 95,
   "metadata": {},
   "outputs": [],
   "source": [
    "y_binary_128 = np.array([1 if i == 128 else 0 for i in y_150users])"
   ]
  },
  {
   "cell_type": "code",
   "execution_count": 96,
   "metadata": {},
   "outputs": [],
   "source": [
    "from sklearn.model_selection import learning_curve\n",
    "\n",
    "def plot_learning_curve(val_train, val_test, train_sizes, \n",
    "                        xlabel='Training Set Size', ylabel='score'):\n",
    "    def plot_with_err(x, data, **kwargs):\n",
    "        mu, std = data.mean(1), data.std(1)\n",
    "        lines = plt.plot(x, mu, '-', **kwargs)\n",
    "        plt.fill_between(x, mu - std, mu + std, edgecolor='none',\n",
    "                         facecolor=lines[0].get_color(), alpha=0.2)\n",
    "    plot_with_err(train_sizes, val_train, label='train')\n",
    "    plot_with_err(train_sizes, val_test, label='valid')\n",
    "    plt.xlabel(xlabel); plt.ylabel(ylabel)\n",
    "    plt.legend(loc='lower right');"
   ]
  },
  {
   "cell_type": "markdown",
   "metadata": {},
   "source": [
    "**Посчитайте доли правильных ответов на кросс-валидации в задаче классификации \"user128-vs-All\" в зависимости от размера выборки. Не помешает посмотреть встроенную документацию для *learning_curve*.**"
   ]
  },
  {
   "cell_type": "code",
   "execution_count": 97,
   "metadata": {},
   "outputs": [
    {
     "name": "stdout",
     "output_type": "stream",
     "text": [
      "CPU times: user 257 ms, sys: 52.2 ms, total: 309 ms\n",
      "Wall time: 2.47 s\n"
     ]
    }
   ],
   "source": [
    "%%time\n",
    "train_sizes = np.linspace(0.25, 1, 20)\n",
    "estimator = svm_grid_searcher2.best_estimator_\n",
    "n_train, val_train, val_test = learning_curve(estimator, X_sparse_150users, y_binary_128, \n",
    "                                              train_sizes=train_sizes, cv=skf, n_jobs=-1)"
   ]
  },
  {
   "cell_type": "code",
   "execution_count": 98,
   "metadata": {},
   "outputs": [
    {
     "data": {
      "image/png": "[encoded data removed]",
      "text/plain": [
       "<Figure size 432x288 with 1 Axes>"
      ]
     },
     "metadata": {
      "needs_background": "light"
     },
     "output_type": "display_data"
    }
   ],
   "source": [
    "plot_learning_curve(val_train, val_test, n_train, \n",
    "                    xlabel='train_size', ylabel='accuracy')"
   ]
  },
  {
   "cell_type": "markdown",
   "metadata": {},
   "source": [
    "**Сделайте выводы о том, помогут ли алгоритму новые размеченные данные при той же постановке задачи.**"
   ]
  }
 ],
 "metadata": {
  "anaconda-cloud": {},
  "kernelspec": {
   "display_name": "Python 3.7.9 64-bit ('Study': conda)",
   "language": "python",
   "name": "python37964bitstudycondaf78d48308280476d91dc2da3c95fe07a"
  },
  "language_info": {
   "codemirror_mode": {
    "name": "ipython",
    "version": 3
   },
   "file_extension": ".py",
   "mimetype": "text/x-python",
   "name": "python",
   "nbconvert_exporter": "python",
   "pygments_lexer": "ipython3",
   "version": "3.7.9"
  }
 },
 "nbformat": 4,
 "nbformat_minor": 1
}
